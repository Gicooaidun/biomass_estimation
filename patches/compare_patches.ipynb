{
 "cells": [
  {
   "cell_type": "code",
   "execution_count": 24,
   "metadata": {},
   "outputs": [
    {
     "name": "stdout",
     "output_type": "stream",
     "text": [
      "| 9.33, 0.00, 501965.00|\n",
      "| 0.00,-9.33, 5629405.00|\n",
      "| 0.00, 0.00, 1.00|\n",
      "| 10.00, 0.00, 499980.00|\n",
      "| 0.00,-10.00, 5700000.00|\n",
      "| 0.00, 0.00, 1.00|\n"
     ]
    }
   ],
   "source": [
    "import rasterio\n",
    "import os\n",
    "\n",
    "# Open the first TIF file\n",
    "with rasterio.open('debug_all_s2_bands/s2_53UNS_0.tif') as src1:\n",
    "    # Read the data and metadata\n",
    "    # patch_band1 = src1.read(1)\n",
    "    patch_band2 = src1.read(2)\n",
    "    patch_band3 = src1.read(3)\n",
    "    patch_band4 = src1.read(4)\n",
    "    # patch_band5 = src1.read(5)\n",
    "    # patch_band6 = src1.read(6)\n",
    "    # patch_band7 = src1.read(7)\n",
    "    patch_band8 = src1.read(8)\n",
    "    # patch_band9 = src1.read(9)\n",
    "    # patch_band10 = src1.read(10)\n",
    "    # patch_band11 = src1.read(11)\n",
    "    # patch_band12 = src1.read(12)\n",
    "    # patch_band13 = src1.read(13)\n",
    "\n",
    "    profile1 = src1.profile\n",
    "\n",
    "    # Get the extent of the first TIF file\n",
    "    extent1 = src1.bounds\n",
    "\n",
    "    print(src1.transform)\n",
    "\n",
    "# Open the second TIF file\n",
    "with rasterio.open('/scratch3/Siberia/scratch2/gsialelli/S2_L2A/Siberia/S2A_MSIL2A_20190219T020731_N9999_R103_T53UNS_20240318T170343.SAFE/GRANULE/L2A_T53UNS_A019119_20190219T021300/IMG_DATA/R10m/T53UNS_20190219T020731_B02_10m.tif') as src2:\n",
    "    # Read the data and metadata\n",
    "    whole_band2 = src2.read(1)\n",
    "    profile2 = src2.profile\n",
    "    # Get the extent of the second TIF file\n",
    "    extent2 = src2.bounds\n",
    "    print(src2.transform)\n",
    "# with rasterio.open('/scratch3/Siberia/scratch2/gsialelli/S2_L2A/Siberia/S2A_MSIL2A_20190219T020731_N9999_R103_T53UNS_20240318T170343.SAFE/GRANULE/L2A_T53UNS_A019119_20190219T021300/IMG_DATA/R10m/T53UNS_20190219T020731_B03_10m.tif') as src3:\n",
    "#     # Read the data and metadata\n",
    "#     whole_band3 = src3.read(1)\n",
    "\n",
    "# with rasterio.open('/scratch3/Siberia/scratch2/gsialelli/S2_L2A/Siberia/S2A_MSIL2A_20190219T020731_N9999_R103_T53UNS_20240318T170343.SAFE/GRANULE/L2A_T53UNS_A019119_20190219T021300/IMG_DATA/R10m/T53UNS_20190219T020731_B04_10m.tif') as src4:\n",
    "#     # Read the data and metadata\n",
    "#     whole_band4 = src4.read(1)\n",
    "\n",
    "\n",
    "\n",
    "\n"
   ]
  }
 ],
 "metadata": {
  "kernelspec": {
   "display_name": "Python 3",
   "language": "python",
   "name": "python3"
  },
  "language_info": {
   "codemirror_mode": {
    "name": "ipython",
    "version": 3
   },
   "file_extension": ".py",
   "mimetype": "text/x-python",
   "name": "python",
   "nbconvert_exporter": "python",
   "pygments_lexer": "ipython3",
   "version": "3.10.12"
  }
 },
 "nbformat": 4,
 "nbformat_minor": 2
}
